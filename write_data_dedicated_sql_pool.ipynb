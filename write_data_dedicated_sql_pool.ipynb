{
 "cells": [
  {
   "cell_type": "code",
   "execution_count": 0,
   "metadata": {
    "application/vnd.databricks.v1+cell": {
     "cellMetadata": {},
     "inputWidgets": {},
     "nuid": "1f549852-a134-4c7d-8c17-91b2837a9d89",
     "showTitle": false,
     "title": ""
    }
   },
   "outputs": [],
   "source": [
    "#First create a table in the dedicated SQL\n",
    "\n",
    "#CREATE TABLE [dbo].[Employee]\n",
    "#(\n",
    "#  [ID] [int]  NULL,\n",
    "#  [Age] [int]  NULL,\n",
    "#  [Salary] [int]  NULL\n",
    "#)\n"
   ]
  },
  {
   "cell_type": "code",
   "execution_count": 0,
   "metadata": {
    "application/vnd.databricks.v1+cell": {
     "cellMetadata": {},
     "inputWidgets": {},
     "nuid": "70cd5286-8d3f-4940-a453-0c9b061b2b44",
     "showTitle": false,
     "title": ""
    }
   },
   "outputs": [],
   "source": [
    "# install Maven library to connect with sql on your cluster\n",
    "# com.microsoft.azure:spark-mssql-connector_2.12_3.0:1.0.0-alpha"
   ]
  },
  {
   "cell_type": "code",
   "execution_count": 0,
   "metadata": {
    "application/vnd.databricks.v1+cell": {
     "cellMetadata": {
      "byteLimit": 2048000,
      "rowLimit": 10000
     },
     "inputWidgets": {},
     "nuid": "046cbc48-a1ae-40d1-9d15-0a5798426dbd",
     "showTitle": false,
     "title": ""
    }
   },
   "outputs": [],
   "source": [
    "# Configure JDBC URL\n",
    "jdbcHostname = \"asadp203.sql.azuresynapse.net\"\n",
    "jdbcPort = \"1433\"\n",
    "jdbcDatabase = \"sqlpool01\"\n",
    "jdbcUsername = \"sqladminuser\"\n",
    "jdbcPassword = \"Pa55w.rd1234\"\n",
    "\n",
    "# Connection properties\n",
    "connectionProperties = {\n",
    "    \"user\" : jdbcUsername,\n",
    "    \"password\" : jdbcPassword,\n",
    "    \"driver\" : \"com.microsoft.sqlserver.jdbc.SQLServerDriver\"\n",
    "}\n",
    "\n",
    "jdbcUrl = f\"jdbc:sqlserver://{jdbcHostname}:{jdbcPort};database={jdbcDatabase};user={jdbcUsername};password={jdbcPassword};encrypt=true;trustServerCertificate=false;hostNameInCertificate=*.sql.azuresynapse.net;loginTimeout=30;\"\n",
    "\n",
    "# Define table and schema\n",
    "table = \"dbo.Employee\"\n",
    "data = [(1, 30, 1500),\n",
    "        (2, 25, 2500),\n",
    "        (3, 27, 3000)]\n",
    "\n",
    "# Create a DataFrame\n",
    "columns = [\"ID\", \"Age\", \"Salary\"]\n",
    "df = spark.createDataFrame(data, schema=columns)\n",
    "\n",
    "# Write data to the SQL pool\n",
    "df.write.jdbc(url=jdbcUrl, table=table, mode=\"append\", properties=connectionProperties)\n"
   ]
  },
  {
   "cell_type": "code",
   "execution_count": 0,
   "metadata": {
    "application/vnd.databricks.v1+cell": {
     "cellMetadata": {
      "byteLimit": 2048000,
      "rowLimit": 10000
     },
     "inputWidgets": {},
     "nuid": "d0910be8-674e-4bb0-9f1c-3f49b99e2fba",
     "showTitle": false,
     "title": ""
    }
   },
   "outputs": [
    {
     "output_type": "display_data",
     "data": {
      "text/html": [
       "<style scoped>\n",
       "  .table-result-container {\n",
       "    max-height: 300px;\n",
       "    overflow: auto;\n",
       "  }\n",
       "  table, th, td {\n",
       "    border: 1px solid black;\n",
       "    border-collapse: collapse;\n",
       "  }\n",
       "  th, td {\n",
       "    padding: 5px;\n",
       "  }\n",
       "  th {\n",
       "    text-align: left;\n",
       "  }\n",
       "</style><div class='table-result-container'><table class='table-result'><thead style='background-color: white'><tr><th>ID</th><th>Age</th><th>Salary</th></tr></thead><tbody><tr><td>1</td><td>30</td><td>1500</td></tr><tr><td>3</td><td>27</td><td>3000</td></tr><tr><td>2</td><td>25</td><td>2500</td></tr></tbody></table></div>"
      ]
     },
     "metadata": {
      "application/vnd.databricks.v1+output": {
       "addedWidgets": {},
       "aggData": [],
       "aggError": "",
       "aggOverflow": false,
       "aggSchema": [],
       "aggSeriesLimitReached": false,
       "aggType": "",
       "arguments": {},
       "columnCustomDisplayInfos": {},
       "data": [
        [
         1,
         30,
         1500
        ],
        [
         3,
         27,
         3000
        ],
        [
         2,
         25,
         2500
        ]
       ],
       "datasetInfos": [],
       "dbfsResultPath": null,
       "isJsonSchema": true,
       "metadata": {},
       "overflow": false,
       "plotOptions": {
        "customPlotOptions": {},
        "displayType": "table",
        "pivotAggregation": null,
        "pivotColumns": null,
        "xColumns": null,
        "yColumns": null
       },
       "removedWidgets": [],
       "schema": [
        {
         "metadata": "{\"isTimestampNTZ\":false,\"signed\":true,\"scale\":0}",
         "name": "ID",
         "type": "\"long\""
        },
        {
         "metadata": "{\"isTimestampNTZ\":false,\"signed\":true,\"scale\":0}",
         "name": "Age",
         "type": "\"long\""
        },
        {
         "metadata": "{\"isTimestampNTZ\":false,\"signed\":true,\"scale\":0}",
         "name": "Salary",
         "type": "\"long\""
        }
       ],
       "type": "table"
      }
     },
     "output_type": "display_data"
    }
   ],
   "source": [
    "# Table name you want to read from\n",
    "table_name = \"Employee\"\n",
    "\n",
    "# Read data from Azure Synapse table into a DataFrame\n",
    "df = spark.read.jdbc(url=jdbcUrl, table=table_name, properties=connectionProperties)\n",
    "\n",
    "# Display the DataFrame content\n",
    "display(df)"
   ]
  },
  {
   "cell_type": "code",
   "execution_count": 0,
   "metadata": {
    "application/vnd.databricks.v1+cell": {
     "cellMetadata": {
      "byteLimit": 2048000,
      "rowLimit": 10000
     },
     "inputWidgets": {},
     "nuid": "ea2df98a-cf4f-4844-a1c5-69c1b6d49030",
     "showTitle": false,
     "title": ""
    }
   },
   "outputs": [
    {
     "output_type": "display_data",
     "data": {
      "text/html": [
       "<style scoped>\n",
       "  .table-result-container {\n",
       "    max-height: 300px;\n",
       "    overflow: auto;\n",
       "  }\n",
       "  table, th, td {\n",
       "    border: 1px solid black;\n",
       "    border-collapse: collapse;\n",
       "  }\n",
       "  th, td {\n",
       "    padding: 5px;\n",
       "  }\n",
       "  th {\n",
       "    text-align: left;\n",
       "  }\n",
       "</style><div class='table-result-container'><table class='table-result'><thead style='background-color: white'><tr><th>ID</th><th>Age</th><th>Salary</th></tr></thead><tbody><tr><td>1</td><td>30</td><td>1500</td></tr><tr><td>3</td><td>27</td><td>3000</td></tr><tr><td>2</td><td>25</td><td>2500</td></tr></tbody></table></div>"
      ]
     },
     "metadata": {
      "application/vnd.databricks.v1+output": {
       "addedWidgets": {},
       "aggData": [],
       "aggError": "",
       "aggOverflow": false,
       "aggSchema": [],
       "aggSeriesLimitReached": false,
       "aggType": "",
       "arguments": {},
       "columnCustomDisplayInfos": {},
       "data": [
        [
         1,
         30,
         1500
        ],
        [
         3,
         27,
         3000
        ],
        [
         2,
         25,
         2500
        ]
       ],
       "datasetInfos": [],
       "dbfsResultPath": null,
       "isJsonSchema": true,
       "metadata": {},
       "overflow": false,
       "plotOptions": {
        "customPlotOptions": {},
        "displayType": "table",
        "pivotAggregation": null,
        "pivotColumns": null,
        "xColumns": null,
        "yColumns": null
       },
       "removedWidgets": [],
       "schema": [
        {
         "metadata": "{\"isTimestampNTZ\":false,\"signed\":true,\"scale\":0}",
         "name": "ID",
         "type": "\"long\""
        },
        {
         "metadata": "{\"isTimestampNTZ\":false,\"signed\":true,\"scale\":0}",
         "name": "Age",
         "type": "\"long\""
        },
        {
         "metadata": "{\"isTimestampNTZ\":false,\"signed\":true,\"scale\":0}",
         "name": "Salary",
         "type": "\"long\""
        }
       ],
       "type": "table"
      }
     },
     "output_type": "display_data"
    }
   ],
   "source": [
    "# Register the DataFrame as a temporary view\n",
    "df.createOrReplaceTempView(\"employee_view\")\n",
    "\n",
    "# Use Spark SQL to query the temporary view\n",
    "result_df = spark.sql(\"SELECT * FROM employee_view\")\n",
    "\n",
    "# Display the result\n",
    "display(result_df)"
   ]
  }
 ],
 "metadata": {
  "application/vnd.databricks.v1+notebook": {
   "dashboards": [],
   "environmentMetadata": null,
   "language": "python",
   "notebookMetadata": {
    "pythonIndentUnit": 4
   },
   "notebookName": "write_data_dedicated_sql_pool",
   "widgets": {}
  }
 },
 "nbformat": 4,
 "nbformat_minor": 0
}
